{
 "cells": [
  {
   "cell_type": "code",
   "execution_count": 1,
   "id": "a892735c",
   "metadata": {},
   "outputs": [],
   "source": [
    "import numpy as np\n",
    "import pandas as pd\n",
    "import matplotlib.pyplot as plt"
   ]
  },
  {
   "cell_type": "code",
   "execution_count": 2,
   "id": "250a9f55",
   "metadata": {},
   "outputs": [],
   "source": [
    "fruits_list = [\"kiwi\", \"mango\", \"strawberry\", \"pineapple\", \"gala apple\", \"honeycrisp apple\", \"tomato\", \"watermelon\", \"honeydew\", \"kiwi\", \"kiwi\", \"kiwi\", \"mango\", \"blueberry\", \"blackberry\", \"gooseberry\", \"papaya\"]"
   ]
  },
  {
   "cell_type": "code",
   "execution_count": 3,
   "id": "d5199e40",
   "metadata": {},
   "outputs": [
    {
     "data": {
      "text/plain": [
       "pandas.core.series.Series"
      ]
     },
     "execution_count": 3,
     "metadata": {},
     "output_type": "execute_result"
    }
   ],
   "source": [
    "fruits = pd.Series(fruits_list)\n",
    "type(fruits)"
   ]
  },
  {
   "cell_type": "code",
   "execution_count": 4,
   "id": "ee2c0a78",
   "metadata": {},
   "outputs": [
    {
     "data": {
      "text/plain": [
       "0                 kiwi\n",
       "1                mango\n",
       "2           strawberry\n",
       "3            pineapple\n",
       "4           gala apple\n",
       "5     honeycrisp apple\n",
       "6               tomato\n",
       "7           watermelon\n",
       "8             honeydew\n",
       "9                 kiwi\n",
       "10                kiwi\n",
       "11                kiwi\n",
       "12               mango\n",
       "13           blueberry\n",
       "14          blackberry\n",
       "15          gooseberry\n",
       "16              papaya\n",
       "dtype: object"
      ]
     },
     "execution_count": 4,
     "metadata": {},
     "output_type": "execute_result"
    }
   ],
   "source": [
    "fruits"
   ]
  },
  {
   "cell_type": "markdown",
   "id": "2ed793c5",
   "metadata": {},
   "source": [
    "## Exercises Part I"
   ]
  },
  {
   "cell_type": "code",
   "execution_count": 5,
   "id": "f82f40be",
   "metadata": {},
   "outputs": [
    {
     "data": {
      "text/plain": [
       "17"
      ]
     },
     "execution_count": 5,
     "metadata": {},
     "output_type": "execute_result"
    }
   ],
   "source": [
    "# Determine the number of elements in fruits.\n",
    "fruits.size"
   ]
  },
  {
   "cell_type": "code",
   "execution_count": 6,
   "id": "c7933b98",
   "metadata": {},
   "outputs": [
    {
     "data": {
      "text/plain": [
       "(17,)"
      ]
     },
     "execution_count": 6,
     "metadata": {},
     "output_type": "execute_result"
    }
   ],
   "source": [
    "fruits.shape"
   ]
  },
  {
   "cell_type": "code",
   "execution_count": 7,
   "id": "833eb9dd",
   "metadata": {},
   "outputs": [
    {
     "data": {
      "text/plain": [
       "RangeIndex(start=0, stop=17, step=1)"
      ]
     },
     "execution_count": 7,
     "metadata": {},
     "output_type": "execute_result"
    }
   ],
   "source": [
    "# Output only the index from fruits.\n",
    "fruits.index"
   ]
  },
  {
   "cell_type": "code",
   "execution_count": 8,
   "id": "8c52843e",
   "metadata": {},
   "outputs": [
    {
     "data": {
      "text/plain": [
       "[0, 1, 2, 3, 4, 5, 6, 7, 8, 9, 10, 11, 12, 13, 14, 15, 16]"
      ]
     },
     "execution_count": 8,
     "metadata": {},
     "output_type": "execute_result"
    }
   ],
   "source": [
    "fruits.index.tolist()"
   ]
  },
  {
   "cell_type": "code",
   "execution_count": 9,
   "id": "5d78bcd9",
   "metadata": {},
   "outputs": [
    {
     "data": {
      "text/plain": [
       "array(['kiwi', 'mango', 'strawberry', 'pineapple', 'gala apple',\n",
       "       'honeycrisp apple', 'tomato', 'watermelon', 'honeydew', 'kiwi',\n",
       "       'kiwi', 'kiwi', 'mango', 'blueberry', 'blackberry', 'gooseberry',\n",
       "       'papaya'], dtype=object)"
      ]
     },
     "execution_count": 9,
     "metadata": {},
     "output_type": "execute_result"
    }
   ],
   "source": [
    "# Output only the values from fruits.\n",
    "fruits.values"
   ]
  },
  {
   "cell_type": "code",
   "execution_count": 10,
   "id": "e0c30f49",
   "metadata": {},
   "outputs": [
    {
     "data": {
      "text/plain": [
       "dtype('O')"
      ]
     },
     "execution_count": 10,
     "metadata": {},
     "output_type": "execute_result"
    }
   ],
   "source": [
    "# Confirm the data type of the values in fruits.\n",
    "fruits.dtype"
   ]
  },
  {
   "cell_type": "code",
   "execution_count": 11,
   "id": "b602af81",
   "metadata": {},
   "outputs": [
    {
     "data": {
      "text/plain": [
       "0          kiwi\n",
       "1         mango\n",
       "2    strawberry\n",
       "3     pineapple\n",
       "4    gala apple\n",
       "dtype: object"
      ]
     },
     "execution_count": 11,
     "metadata": {},
     "output_type": "execute_result"
    }
   ],
   "source": [
    "# Output only the first five values from fruits.\n",
    "fruits.head()"
   ]
  },
  {
   "cell_type": "code",
   "execution_count": 12,
   "id": "6bb6bc9b",
   "metadata": {},
   "outputs": [
    {
     "data": {
      "text/plain": [
       "14    blackberry\n",
       "15    gooseberry\n",
       "16        papaya\n",
       "dtype: object"
      ]
     },
     "execution_count": 12,
     "metadata": {},
     "output_type": "execute_result"
    }
   ],
   "source": [
    "# Output the last three values. \n",
    "fruits.tail(3)"
   ]
  },
  {
   "cell_type": "code",
   "execution_count": 13,
   "id": "62affe1f",
   "metadata": {},
   "outputs": [
    {
     "data": {
      "text/plain": [
       "11                kiwi\n",
       "5     honeycrisp apple\n",
       "dtype: object"
      ]
     },
     "execution_count": 13,
     "metadata": {},
     "output_type": "execute_result"
    }
   ],
   "source": [
    "# Output two random values from fruits.\n",
    "fruits.sample(2)"
   ]
  },
  {
   "cell_type": "code",
   "execution_count": 14,
   "id": "31d87760",
   "metadata": {},
   "outputs": [
    {
     "data": {
      "text/plain": [
       "count       17\n",
       "unique      13\n",
       "top       kiwi\n",
       "freq         4\n",
       "dtype: object"
      ]
     },
     "execution_count": 14,
     "metadata": {},
     "output_type": "execute_result"
    }
   ],
   "source": [
    "# Run the .describe() on fruits to see what information \n",
    "# it returns when called on a Series with string values.\n",
    "fruits.describe()"
   ]
  },
  {
   "cell_type": "code",
   "execution_count": 15,
   "id": "e432ba5b",
   "metadata": {},
   "outputs": [
    {
     "data": {
      "text/plain": [
       "array(['kiwi', 'mango', 'strawberry', 'pineapple', 'gala apple',\n",
       "       'honeycrisp apple', 'tomato', 'watermelon', 'honeydew',\n",
       "       'blueberry', 'blackberry', 'gooseberry', 'papaya'], dtype=object)"
      ]
     },
     "execution_count": 15,
     "metadata": {},
     "output_type": "execute_result"
    }
   ],
   "source": [
    "# Run the code necessary to produce only the unique string values from fruits.\n",
    "fruits.unique()"
   ]
  },
  {
   "cell_type": "code",
   "execution_count": 16,
   "id": "a7bd7f4f",
   "metadata": {},
   "outputs": [
    {
     "data": {
      "text/plain": [
       "kiwi                4\n",
       "mango               2\n",
       "blackberry          1\n",
       "strawberry          1\n",
       "gala apple          1\n",
       "pineapple           1\n",
       "papaya              1\n",
       "honeycrisp apple    1\n",
       "watermelon          1\n",
       "blueberry           1\n",
       "gooseberry          1\n",
       "tomato              1\n",
       "honeydew            1\n",
       "dtype: int64"
      ]
     },
     "execution_count": 16,
     "metadata": {},
     "output_type": "execute_result"
    }
   ],
   "source": [
    "# Determine how many times each unique string value occurs in fruits.\n",
    "fruits.value_counts()"
   ]
  },
  {
   "cell_type": "code",
   "execution_count": 17,
   "id": "c86a8820",
   "metadata": {},
   "outputs": [
    {
     "data": {
      "text/plain": [
       "0    kiwi\n",
       "dtype: object"
      ]
     },
     "execution_count": 17,
     "metadata": {},
     "output_type": "execute_result"
    }
   ],
   "source": [
    "# Determine the string value that occurs most frequently in fruits.\n",
    "fruits.mode()"
   ]
  },
  {
   "cell_type": "code",
   "execution_count": 18,
   "id": "3c7c700d",
   "metadata": {},
   "outputs": [
    {
     "data": {
      "text/plain": [
       "'kiwi'"
      ]
     },
     "execution_count": 18,
     "metadata": {},
     "output_type": "execute_result"
    }
   ],
   "source": [
    "fruits.value_counts().idxmax()"
   ]
  },
  {
   "cell_type": "code",
   "execution_count": 19,
   "id": "03555f14",
   "metadata": {},
   "outputs": [
    {
     "data": {
      "text/plain": [
       "kiwi    4\n",
       "dtype: int64"
      ]
     },
     "execution_count": 19,
     "metadata": {},
     "output_type": "execute_result"
    }
   ],
   "source": [
    "fruits.value_counts().nlargest(n=1, keep='all')"
   ]
  },
  {
   "cell_type": "code",
   "execution_count": 20,
   "id": "cd998d09",
   "metadata": {},
   "outputs": [
    {
     "data": {
      "text/plain": [
       "blackberry          1\n",
       "strawberry          1\n",
       "gala apple          1\n",
       "pineapple           1\n",
       "papaya              1\n",
       "honeycrisp apple    1\n",
       "watermelon          1\n",
       "blueberry           1\n",
       "gooseberry          1\n",
       "tomato              1\n",
       "honeydew            1\n",
       "mango               2\n",
       "kiwi                4\n",
       "dtype: int64"
      ]
     },
     "execution_count": 20,
     "metadata": {},
     "output_type": "execute_result"
    }
   ],
   "source": [
    "# Determine the string value that occurs least frequently in fruits.\n",
    "fruits.value_counts(ascending = True)"
   ]
  },
  {
   "cell_type": "code",
   "execution_count": 21,
   "id": "3f13cf2d",
   "metadata": {},
   "outputs": [
    {
     "data": {
      "text/plain": [
       "blackberry          1\n",
       "strawberry          1\n",
       "gala apple          1\n",
       "pineapple           1\n",
       "papaya              1\n",
       "honeycrisp apple    1\n",
       "watermelon          1\n",
       "blueberry           1\n",
       "gooseberry          1\n",
       "tomato              1\n",
       "honeydew            1\n",
       "dtype: int64"
      ]
     },
     "execution_count": 21,
     "metadata": {},
     "output_type": "execute_result"
    }
   ],
   "source": [
    "fruits.value_counts().nsmallest(n=1, keep='all')"
   ]
  },
  {
   "cell_type": "markdown",
   "id": "961390c4",
   "metadata": {},
   "source": [
    "## Exercises Part II"
   ]
  },
  {
   "cell_type": "code",
   "execution_count": 22,
   "id": "5096a90a",
   "metadata": {},
   "outputs": [
    {
     "data": {
      "text/plain": [
       "0                 Kiwi\n",
       "1                Mango\n",
       "2           Strawberry\n",
       "3            Pineapple\n",
       "4           Gala apple\n",
       "5     Honeycrisp apple\n",
       "6               Tomato\n",
       "7           Watermelon\n",
       "8             Honeydew\n",
       "9                 Kiwi\n",
       "10                Kiwi\n",
       "11                Kiwi\n",
       "12               Mango\n",
       "13           Blueberry\n",
       "14          Blackberry\n",
       "15          Gooseberry\n",
       "16              Papaya\n",
       "dtype: object"
      ]
     },
     "execution_count": 22,
     "metadata": {},
     "output_type": "execute_result"
    }
   ],
   "source": [
    "#1 Capitalize all the string values in fruits.\n",
    "fruits.str.capitalize()"
   ]
  },
  {
   "cell_type": "code",
   "execution_count": 23,
   "id": "b826b8b8",
   "metadata": {},
   "outputs": [
    {
     "data": {
      "text/plain": [
       "0     0\n",
       "1     1\n",
       "2     1\n",
       "3     1\n",
       "4     3\n",
       "5     1\n",
       "6     1\n",
       "7     1\n",
       "8     0\n",
       "9     0\n",
       "10    0\n",
       "11    0\n",
       "12    1\n",
       "13    0\n",
       "14    1\n",
       "15    0\n",
       "16    3\n",
       "dtype: int64"
      ]
     },
     "execution_count": 23,
     "metadata": {},
     "output_type": "execute_result"
    }
   ],
   "source": [
    "#2 Count the letter \"a\" in all the string values (use string vectorization).\n",
    "fruits.str.count('a')"
   ]
  },
  {
   "cell_type": "code",
   "execution_count": 24,
   "id": "c22665b9",
   "metadata": {},
   "outputs": [
    {
     "data": {
      "text/plain": [
       "0     2\n",
       "1     2\n",
       "2     2\n",
       "3     4\n",
       "4     4\n",
       "5     5\n",
       "6     3\n",
       "7     4\n",
       "8     3\n",
       "9     2\n",
       "10    2\n",
       "11    2\n",
       "12    2\n",
       "13    3\n",
       "14    2\n",
       "15    4\n",
       "16    3\n",
       "dtype: int64"
      ]
     },
     "execution_count": 24,
     "metadata": {},
     "output_type": "execute_result"
    }
   ],
   "source": [
    "#3 Output the number of vowels in each and every string value.\n",
    "fruits.str.count(r'[aeiou]')"
   ]
  },
  {
   "cell_type": "code",
   "execution_count": 25,
   "id": "1a182f21",
   "metadata": {},
   "outputs": [
    {
     "data": {
      "text/plain": [
       "'honeycrisp apple'"
      ]
     },
     "execution_count": 25,
     "metadata": {},
     "output_type": "execute_result"
    }
   ],
   "source": [
    "#4 Write the code to get the longest string value from fruits\n",
    "max(fruits, key=len)"
   ]
  },
  {
   "cell_type": "code",
   "execution_count": 26,
   "id": "5f760dad",
   "metadata": {},
   "outputs": [
    {
     "data": {
      "text/plain": [
       "1                mango\n",
       "2           strawberry\n",
       "3            pineapple\n",
       "4           gala apple\n",
       "5     honeycrisp apple\n",
       "6               tomato\n",
       "7           watermelon\n",
       "8             honeydew\n",
       "12               mango\n",
       "13           blueberry\n",
       "14          blackberry\n",
       "15          gooseberry\n",
       "16              papaya\n",
       "dtype: object"
      ]
     },
     "execution_count": 26,
     "metadata": {},
     "output_type": "execute_result"
    }
   ],
   "source": [
    "#5 Write the code to get the string values with 5 or more \n",
    "# letters in the name\n",
    "fruits[fruits.str.len() >= 5]"
   ]
  },
  {
   "cell_type": "code",
   "execution_count": 27,
   "id": "19894066",
   "metadata": {},
   "outputs": [
    {
     "data": {
      "text/plain": [
       "6         tomato\n",
       "15    gooseberry\n",
       "dtype: object"
      ]
     },
     "execution_count": 27,
     "metadata": {},
     "output_type": "execute_result"
    }
   ],
   "source": [
    "#6 Use the .apply method with a lambda function to find the fruit(s) \n",
    "# containing the letter \"o\" two or more times.\n",
    "fruits[fruits.apply(lambda x: x.count('o') >= 2)]"
   ]
  },
  {
   "cell_type": "code",
   "execution_count": 28,
   "id": "ae9d7bf8",
   "metadata": {},
   "outputs": [
    {
     "data": {
      "text/plain": [
       "2     strawberry\n",
       "13     blueberry\n",
       "14    blackberry\n",
       "15    gooseberry\n",
       "dtype: object"
      ]
     },
     "execution_count": 28,
     "metadata": {},
     "output_type": "execute_result"
    }
   ],
   "source": [
    "#7 Write the code to get only the string values containing the substring \"berry\".\n",
    "fruits[fruits.str.contains('berry')]"
   ]
  },
  {
   "cell_type": "code",
   "execution_count": 29,
   "id": "692b54f3",
   "metadata": {},
   "outputs": [
    {
     "data": {
      "text/plain": [
       "3           pineapple\n",
       "4          gala apple\n",
       "5    honeycrisp apple\n",
       "dtype: object"
      ]
     },
     "execution_count": 29,
     "metadata": {},
     "output_type": "execute_result"
    }
   ],
   "source": [
    "#8 Write the code to get only the string values containing the substring \"apple\".\n",
    "fruits[fruits.str.contains('apple')]"
   ]
  },
  {
   "cell_type": "code",
   "execution_count": 30,
   "id": "5e40746b",
   "metadata": {},
   "outputs": [
    {
     "data": {
      "text/plain": [
       "'honeycrisp apple'"
      ]
     },
     "execution_count": 30,
     "metadata": {},
     "output_type": "execute_result"
    }
   ],
   "source": [
    "#9 Which string value contains the most vowels?\n",
    "fruits[max(fruits.str.count(r'[aeiou]'))]"
   ]
  },
  {
   "cell_type": "markdown",
   "id": "7ad53f78",
   "metadata": {},
   "source": [
    "## Exercises Part III"
   ]
  },
  {
   "cell_type": "code",
   "execution_count": 31,
   "id": "1e1300a4",
   "metadata": {},
   "outputs": [],
   "source": [
    "letter_string = 'hnvidduckkqxwymbimkccexbkmqygkxoyndmcxnwqarhyffsjpsrabtjzsypmzadfavyrnndndvswreauxovncxtwzpwejilzjrmmbbgbyxvjtewqthafnbkqplarokkyydtubbmnexoypulzwfhqvckdpqtpoppzqrmcvhhpwgjwupgzhiofohawytlsiyecuproguy'"
   ]
  },
  {
   "cell_type": "code",
   "execution_count": 32,
   "id": "30680224",
   "metadata": {},
   "outputs": [
    {
     "data": {
      "text/plain": [
       "['h',\n",
       " 'n',\n",
       " 'v',\n",
       " 'i',\n",
       " 'd',\n",
       " 'd',\n",
       " 'u',\n",
       " 'c',\n",
       " 'k',\n",
       " 'k',\n",
       " 'q',\n",
       " 'x',\n",
       " 'w',\n",
       " 'y',\n",
       " 'm',\n",
       " 'b',\n",
       " 'i',\n",
       " 'm',\n",
       " 'k',\n",
       " 'c',\n",
       " 'c',\n",
       " 'e',\n",
       " 'x',\n",
       " 'b',\n",
       " 'k',\n",
       " 'm',\n",
       " 'q',\n",
       " 'y',\n",
       " 'g',\n",
       " 'k',\n",
       " 'x',\n",
       " 'o',\n",
       " 'y',\n",
       " 'n',\n",
       " 'd',\n",
       " 'm',\n",
       " 'c',\n",
       " 'x',\n",
       " 'n',\n",
       " 'w',\n",
       " 'q',\n",
       " 'a',\n",
       " 'r',\n",
       " 'h',\n",
       " 'y',\n",
       " 'f',\n",
       " 'f',\n",
       " 's',\n",
       " 'j',\n",
       " 'p',\n",
       " 's',\n",
       " 'r',\n",
       " 'a',\n",
       " 'b',\n",
       " 't',\n",
       " 'j',\n",
       " 'z',\n",
       " 's',\n",
       " 'y',\n",
       " 'p',\n",
       " 'm',\n",
       " 'z',\n",
       " 'a',\n",
       " 'd',\n",
       " 'f',\n",
       " 'a',\n",
       " 'v',\n",
       " 'y',\n",
       " 'r',\n",
       " 'n',\n",
       " 'n',\n",
       " 'd',\n",
       " 'n',\n",
       " 'd',\n",
       " 'v',\n",
       " 's',\n",
       " 'w',\n",
       " 'r',\n",
       " 'e',\n",
       " 'a',\n",
       " 'u',\n",
       " 'x',\n",
       " 'o',\n",
       " 'v',\n",
       " 'n',\n",
       " 'c',\n",
       " 'x',\n",
       " 't',\n",
       " 'w',\n",
       " 'z',\n",
       " 'p',\n",
       " 'w',\n",
       " 'e',\n",
       " 'j',\n",
       " 'i',\n",
       " 'l',\n",
       " 'z',\n",
       " 'j',\n",
       " 'r',\n",
       " 'm',\n",
       " 'm',\n",
       " 'b',\n",
       " 'b',\n",
       " 'g',\n",
       " 'b',\n",
       " 'y',\n",
       " 'x',\n",
       " 'v',\n",
       " 'j',\n",
       " 't',\n",
       " 'e',\n",
       " 'w',\n",
       " 'q',\n",
       " 't',\n",
       " 'h',\n",
       " 'a',\n",
       " 'f',\n",
       " 'n',\n",
       " 'b',\n",
       " 'k',\n",
       " 'q',\n",
       " 'p',\n",
       " 'l',\n",
       " 'a',\n",
       " 'r',\n",
       " 'o',\n",
       " 'k',\n",
       " 'k',\n",
       " 'y',\n",
       " 'y',\n",
       " 'd',\n",
       " 't',\n",
       " 'u',\n",
       " 'b',\n",
       " 'b',\n",
       " 'm',\n",
       " 'n',\n",
       " 'e',\n",
       " 'x',\n",
       " 'o',\n",
       " 'y',\n",
       " 'p',\n",
       " 'u',\n",
       " 'l',\n",
       " 'z',\n",
       " 'w',\n",
       " 'f',\n",
       " 'h',\n",
       " 'q',\n",
       " 'v',\n",
       " 'c',\n",
       " 'k',\n",
       " 'd',\n",
       " 'p',\n",
       " 'q',\n",
       " 't',\n",
       " 'p',\n",
       " 'o',\n",
       " 'p',\n",
       " 'p',\n",
       " 'z',\n",
       " 'q',\n",
       " 'r',\n",
       " 'm',\n",
       " 'c',\n",
       " 'v',\n",
       " 'h',\n",
       " 'h',\n",
       " 'p',\n",
       " 'w',\n",
       " 'g',\n",
       " 'j',\n",
       " 'w',\n",
       " 'u',\n",
       " 'p',\n",
       " 'g',\n",
       " 'z',\n",
       " 'h',\n",
       " 'i',\n",
       " 'o',\n",
       " 'f',\n",
       " 'o',\n",
       " 'h',\n",
       " 'a',\n",
       " 'w',\n",
       " 'y',\n",
       " 't',\n",
       " 'l',\n",
       " 's',\n",
       " 'i',\n",
       " 'y',\n",
       " 'e',\n",
       " 'c',\n",
       " 'u',\n",
       " 'p',\n",
       " 'r',\n",
       " 'o',\n",
       " 'g',\n",
       " 'u',\n",
       " 'y']"
      ]
     },
     "execution_count": 32,
     "metadata": {},
     "output_type": "execute_result"
    }
   ],
   "source": [
    "list(letter_string)"
   ]
  },
  {
   "cell_type": "code",
   "execution_count": 33,
   "id": "741534fd",
   "metadata": {},
   "outputs": [
    {
     "data": {
      "text/plain": [
       "0      h\n",
       "1      n\n",
       "2      v\n",
       "3      i\n",
       "4      d\n",
       "      ..\n",
       "195    r\n",
       "196    o\n",
       "197    g\n",
       "198    u\n",
       "199    y\n",
       "Length: 200, dtype: object"
      ]
     },
     "execution_count": 33,
     "metadata": {},
     "output_type": "execute_result"
    }
   ],
   "source": [
    "letters = pd.Series(list(letter_string))\n",
    "letters"
   ]
  },
  {
   "cell_type": "code",
   "execution_count": 34,
   "id": "56032e01",
   "metadata": {},
   "outputs": [
    {
     "data": {
      "text/plain": [
       "pandas.core.series.Series"
      ]
     },
     "execution_count": 34,
     "metadata": {},
     "output_type": "execute_result"
    }
   ],
   "source": [
    "type(letters)"
   ]
  },
  {
   "cell_type": "code",
   "execution_count": 35,
   "id": "ce945d80",
   "metadata": {},
   "outputs": [
    {
     "data": {
      "text/plain": [
       "count     200\n",
       "unique     26\n",
       "top         y\n",
       "freq       13\n",
       "dtype: object"
      ]
     },
     "execution_count": 35,
     "metadata": {},
     "output_type": "execute_result"
    }
   ],
   "source": [
    "letters.describe()"
   ]
  },
  {
   "cell_type": "code",
   "execution_count": 36,
   "id": "25bce9ce",
   "metadata": {},
   "outputs": [
    {
     "data": {
      "text/plain": [
       "y    13\n",
       "p    12\n",
       "w    10\n",
       "m     9\n",
       "k     9\n",
       "n     9\n",
       "b     9\n",
       "o     8\n",
       "q     8\n",
       "c     8\n",
       "a     8\n",
       "d     8\n",
       "h     8\n",
       "x     8\n",
       "r     8\n",
       "t     7\n",
       "z     7\n",
       "v     7\n",
       "u     7\n",
       "e     6\n",
       "j     6\n",
       "f     6\n",
       "s     5\n",
       "g     5\n",
       "i     5\n",
       "l     4\n",
       "dtype: int64"
      ]
     },
     "execution_count": 36,
     "metadata": {},
     "output_type": "execute_result"
    }
   ],
   "source": [
    "letters.value_counts()"
   ]
  },
  {
   "cell_type": "code",
   "execution_count": 37,
   "id": "b354f72e",
   "metadata": {},
   "outputs": [
    {
     "data": {
      "text/plain": [
       "0    y\n",
       "dtype: object"
      ]
     },
     "execution_count": 37,
     "metadata": {},
     "output_type": "execute_result"
    }
   ],
   "source": [
    "#1 Which letter occurs the most frequently in the letters Series?\n",
    "letters.mode()"
   ]
  },
  {
   "cell_type": "code",
   "execution_count": 38,
   "id": "c99c4947",
   "metadata": {},
   "outputs": [
    {
     "data": {
      "text/plain": [
       "l    4\n",
       "dtype: int64"
      ]
     },
     "execution_count": 38,
     "metadata": {},
     "output_type": "execute_result"
    }
   ],
   "source": [
    "#2 Which letter occurs the Least frequently?\n",
    "letters.value_counts().nsmallest(n=1, keep='all')"
   ]
  },
  {
   "cell_type": "code",
   "execution_count": 39,
   "id": "0a64f3f0",
   "metadata": {},
   "outputs": [
    {
     "name": "stdout",
     "output_type": "stream",
     "text": [
      "34\n"
     ]
    }
   ],
   "source": [
    "#3 How many vowels are in the Series?\n",
    "vowels = list('aeiou')\n",
    "vowels\n",
    "print(len(letters[letters.isin(vowels)]))"
   ]
  },
  {
   "cell_type": "code",
   "execution_count": 40,
   "id": "f6e79616",
   "metadata": {},
   "outputs": [
    {
     "name": "stdout",
     "output_type": "stream",
     "text": [
      "166\n"
     ]
    }
   ],
   "source": [
    "#4 How many consonants are in the Series?\n",
    "print(len(letters[(letters.isin(vowels))==False]))"
   ]
  },
  {
   "cell_type": "code",
   "execution_count": 41,
   "id": "bca90386",
   "metadata": {},
   "outputs": [
    {
     "data": {
      "text/plain": [
       "0      H\n",
       "1      N\n",
       "2      V\n",
       "3      I\n",
       "4      D\n",
       "      ..\n",
       "195    R\n",
       "196    O\n",
       "197    G\n",
       "198    U\n",
       "199    Y\n",
       "Length: 200, dtype: object"
      ]
     },
     "execution_count": 41,
     "metadata": {},
     "output_type": "execute_result"
    }
   ],
   "source": [
    "#5 Create a Series that has all of the same letters but uppercased.\n",
    "letters.str.capitalize()"
   ]
  },
  {
   "cell_type": "code",
   "execution_count": 42,
   "id": "6d089af0",
   "metadata": {},
   "outputs": [
    {
     "data": {
      "text/plain": [
       "<AxesSubplot:title={'center':'6 Most Commonly Occuring Letters'}, xlabel='Letter', ylabel='Frequency'>"
      ]
     },
     "execution_count": 42,
     "metadata": {},
     "output_type": "execute_result"
    },
    {
     "data": {
      "image/png": "[encoded data removed]",
      "text/plain": [
       "<Figure size 432x288 with 1 Axes>"
      ]
     },
     "metadata": {
      "needs_background": "light"
     },
     "output_type": "display_data"
    }
   ],
   "source": [
    "#6 Create a bar plot of the frequencies of the 6 most commonly occuring letters.\n",
    "letters.value_counts().head(7).plot.bar(title = '6 Most Commonly Occuring Letters',\n",
    "                                        rot = 0,\n",
    "                                        xlabel = 'Letter',\n",
    "                                        ylabel = 'Frequency',\n",
    "                                        color= 'darkseagreen')"
   ]
  },
  {
   "cell_type": "markdown",
   "id": "2f8e1be3",
   "metadata": {},
   "source": [
    "### Create a Series named numbers from the following list:"
   ]
  },
  {
   "cell_type": "code",
   "execution_count": 43,
   "id": "e5c7b5dd",
   "metadata": {},
   "outputs": [],
   "source": [
    "numbers_list = ['$796,459.41', '$278.60', '$482,571.67', '$4,503,915.98', '$2,121,418.3', '$1,260,813.3', '$87,231.01', '$1,509,175.45', '$4,138,548.00', '$2,848,913.80', '$594,715.39', '$4,789,988.17', '$4,513,644.5', '$3,191,059.97', '$1,758,712.24', '$4,338,283.54', '$4,738,303.38', '$2,791,759.67', '$769,681.94', '$452,650.23']"
   ]
  },
  {
   "cell_type": "code",
   "execution_count": 44,
   "id": "fc33fcf2",
   "metadata": {},
   "outputs": [
    {
     "data": {
      "text/plain": [
       "0       $796,459.41\n",
       "1           $278.60\n",
       "2       $482,571.67\n",
       "3     $4,503,915.98\n",
       "4      $2,121,418.3\n",
       "5      $1,260,813.3\n",
       "6        $87,231.01\n",
       "7     $1,509,175.45\n",
       "8     $4,138,548.00\n",
       "9     $2,848,913.80\n",
       "10      $594,715.39\n",
       "11    $4,789,988.17\n",
       "12     $4,513,644.5\n",
       "13    $3,191,059.97\n",
       "14    $1,758,712.24\n",
       "15    $4,338,283.54\n",
       "16    $4,738,303.38\n",
       "17    $2,791,759.67\n",
       "18      $769,681.94\n",
       "19      $452,650.23\n",
       "dtype: object"
      ]
     },
     "execution_count": 44,
     "metadata": {},
     "output_type": "execute_result"
    }
   ],
   "source": [
    "numbers = pd.Series(numbers_list)\n",
    "numbers"
   ]
  },
  {
   "cell_type": "code",
   "execution_count": 45,
   "id": "f23c885a",
   "metadata": {},
   "outputs": [
    {
     "data": {
      "text/plain": [
       "dtype('O')"
      ]
     },
     "execution_count": 45,
     "metadata": {},
     "output_type": "execute_result"
    }
   ],
   "source": [
    "#1 What is the data type of the numbers Series?\n",
    "numbers.dtype"
   ]
  },
  {
   "cell_type": "code",
   "execution_count": 46,
   "id": "178b6a50",
   "metadata": {},
   "outputs": [
    {
     "data": {
      "text/plain": [
       "20"
      ]
     },
     "execution_count": 46,
     "metadata": {},
     "output_type": "execute_result"
    }
   ],
   "source": [
    "#2 How many elements are in the number Series?\n",
    "len(numbers)"
   ]
  },
  {
   "cell_type": "code",
   "execution_count": 47,
   "id": "44adeff7",
   "metadata": {},
   "outputs": [
    {
     "name": "stderr",
     "output_type": "stream",
     "text": [
      "<ipython-input-47-0fdb9f36f81e>:3: FutureWarning: The default value of regex will change from True to False in a future version. In addition, single character regular expressions will*not* be treated as literal strings when regex=True.\n",
      "  numbers_float = numbers.str.replace('$','').str.replace(',','').astype('float')\n"
     ]
    },
    {
     "data": {
      "text/plain": [
       "0      796459.41\n",
       "1         278.60\n",
       "2      482571.67\n",
       "3     4503915.98\n",
       "4     2121418.30\n",
       "5     1260813.30\n",
       "6       87231.01\n",
       "7     1509175.45\n",
       "8     4138548.00\n",
       "9     2848913.80\n",
       "10     594715.39\n",
       "11    4789988.17\n",
       "12    4513644.50\n",
       "13    3191059.97\n",
       "14    1758712.24\n",
       "15    4338283.54\n",
       "16    4738303.38\n",
       "17    2791759.67\n",
       "18     769681.94\n",
       "19     452650.23\n",
       "dtype: float64"
      ]
     },
     "execution_count": 47,
     "metadata": {},
     "output_type": "execute_result"
    }
   ],
   "source": [
    "#3 Perform the necessary manipulations by accessing Series attributes and methods \n",
    "# to convert the numbers Series to a numeric data type.\n",
    "numbers_float = numbers.str.replace('$','').str.replace(',','').astype('float')\n",
    "numbers_float"
   ]
  },
  {
   "cell_type": "code",
   "execution_count": 48,
   "id": "6fd57263",
   "metadata": {},
   "outputs": [
    {
     "data": {
      "text/plain": [
       "4789988.17"
      ]
     },
     "execution_count": 48,
     "metadata": {},
     "output_type": "execute_result"
    }
   ],
   "source": [
    "#4 Run the code to discover the maximum value from the Series.\n",
    "numbers_float.max()"
   ]
  },
  {
   "cell_type": "code",
   "execution_count": 49,
   "id": "653add4b",
   "metadata": {},
   "outputs": [
    {
     "data": {
      "text/plain": [
       "278.6"
      ]
     },
     "execution_count": 49,
     "metadata": {},
     "output_type": "execute_result"
    }
   ],
   "source": [
    "#5 Run the code to discover the minimum value from the Series.\n",
    "numbers_float.min()"
   ]
  },
  {
   "cell_type": "code",
   "execution_count": 50,
   "id": "87765b8d",
   "metadata": {},
   "outputs": [
    {
     "data": {
      "text/plain": [
       "4789709.57"
      ]
     },
     "execution_count": 50,
     "metadata": {},
     "output_type": "execute_result"
    }
   ],
   "source": [
    "#6 What is the range of the values in the Series?\n",
    "numbers_range = numbers_float.max() -numbers_float.min()\n",
    "numbers_range"
   ]
  },
  {
   "cell_type": "code",
   "execution_count": 51,
   "id": "554b474f",
   "metadata": {},
   "outputs": [
    {
     "data": {
      "text/plain": [
       "(-4511.111, 1197705.993]      7\n",
       "(3592560.778, 4789988.17]     6\n",
       "(1197705.993, 2395133.385]    4\n",
       "(2395133.385, 3592560.778]    3\n",
       "dtype: int64"
      ]
     },
     "execution_count": 51,
     "metadata": {},
     "output_type": "execute_result"
    }
   ],
   "source": [
    "#7 Bin the data into 4 equally sized intervals or bins and output how many values fall into each bin.\n",
    "\n",
    "numbers_float.value_counts(bins = 4)"
   ]
  },
  {
   "cell_type": "code",
   "execution_count": 52,
   "id": "4b551701",
   "metadata": {},
   "outputs": [
    {
     "data": {
      "text/plain": [
       "(-4511.11, 1197705.993]       7\n",
       "(1197705.993, 2395133.385]    4\n",
       "(2395133.385, 3592560.778]    3\n",
       "(3592560.778, 4789988.17]     6\n",
       "dtype: int64"
      ]
     },
     "execution_count": 52,
     "metadata": {},
     "output_type": "execute_result"
    }
   ],
   "source": [
    "pd.cut(numbers_float, 4).value_counts().sort_index()"
   ]
  },
  {
   "cell_type": "code",
   "execution_count": 53,
   "id": "97119b01",
   "metadata": {},
   "outputs": [
    {
     "data": {
      "text/plain": [
       "<AxesSubplot:ylabel='US $'>"
      ]
     },
     "execution_count": 53,
     "metadata": {},
     "output_type": "execute_result"
    },
    {
     "data": {
      "image/png": "[encoded data removed]",
      "text/plain": [
       "<Figure size 432x288 with 1 Axes>"
      ]
     },
     "metadata": {
      "needs_background": "light"
     },
     "output_type": "display_data"
    }
   ],
   "source": [
    "#8 Plot the binned data in a meaningful way. Be sure to include a title and axis labels.\n",
    "\n",
    "numbers_float.value_counts(bins = 4).sort_index().plot(kind = 'barh',\n",
    "                                                      color = 'darkseagreen',\n",
    "                                                      xlabel = 'US $',\n",
    "                                                      ylabel = 'Count')"
   ]
  },
  {
   "cell_type": "markdown",
   "id": "67deb027",
   "metadata": {},
   "source": [
    "### Use pandas to create a Series named exam_scores from the following list:"
   ]
  },
  {
   "cell_type": "code",
   "execution_count": 54,
   "id": "54f3a570",
   "metadata": {},
   "outputs": [],
   "source": [
    "scores_list = [60, 86, 75, 62, 93, 71, 60, 83, 95, 78, 65, 72, 69, 81, 96, 80, 85, 92, 82, 78]"
   ]
  },
  {
   "cell_type": "code",
   "execution_count": 55,
   "id": "4ff8e05d",
   "metadata": {},
   "outputs": [
    {
     "data": {
      "text/plain": [
       "0     60\n",
       "1     86\n",
       "2     75\n",
       "3     62\n",
       "4     93\n",
       "5     71\n",
       "6     60\n",
       "7     83\n",
       "8     95\n",
       "9     78\n",
       "10    65\n",
       "11    72\n",
       "12    69\n",
       "13    81\n",
       "14    96\n",
       "15    80\n",
       "16    85\n",
       "17    92\n",
       "18    82\n",
       "19    78\n",
       "dtype: int64"
      ]
     },
     "execution_count": 55,
     "metadata": {},
     "output_type": "execute_result"
    }
   ],
   "source": [
    "exam_scores = pd.Series(scores_list)\n",
    "exam_scores"
   ]
  },
  {
   "cell_type": "code",
   "execution_count": 56,
   "id": "dd38fd86",
   "metadata": {},
   "outputs": [
    {
     "data": {
      "text/plain": [
       "20"
      ]
     },
     "execution_count": 56,
     "metadata": {},
     "output_type": "execute_result"
    }
   ],
   "source": [
    "#1 How many elements are in the exam_scores Series?\n",
    "exam_scores.count()"
   ]
  },
  {
   "cell_type": "code",
   "execution_count": 57,
   "id": "543c56ea",
   "metadata": {},
   "outputs": [
    {
     "data": {
      "text/plain": [
       "60"
      ]
     },
     "execution_count": 57,
     "metadata": {},
     "output_type": "execute_result"
    }
   ],
   "source": [
    "#2 Run the code to discover the minimum, the maximum, the mean, and the median scores for the exam_scores Series.\n",
    "exam_scores.min()"
   ]
  },
  {
   "cell_type": "code",
   "execution_count": 58,
   "id": "64784934",
   "metadata": {},
   "outputs": [
    {
     "data": {
      "text/plain": [
       "96"
      ]
     },
     "execution_count": 58,
     "metadata": {},
     "output_type": "execute_result"
    }
   ],
   "source": [
    "exam_scores.max()"
   ]
  },
  {
   "cell_type": "code",
   "execution_count": 59,
   "id": "c24c3600",
   "metadata": {},
   "outputs": [
    {
     "data": {
      "text/plain": [
       "78.15"
      ]
     },
     "execution_count": 59,
     "metadata": {},
     "output_type": "execute_result"
    }
   ],
   "source": [
    "exam_scores.mean()"
   ]
  },
  {
   "cell_type": "code",
   "execution_count": 60,
   "id": "96e47025",
   "metadata": {},
   "outputs": [
    {
     "data": {
      "text/plain": [
       "<AxesSubplot:title={'center':'Distribution of Scores'}, ylabel='Frequency'>"
      ]
     },
     "execution_count": 60,
     "metadata": {},
     "output_type": "execute_result"
    },
    {
     "data": {
      "image/png": "[encoded data removed]",
      "text/plain": [
       "<Figure size 432x288 with 1 Axes>"
      ]
     },
     "metadata": {
      "needs_background": "light"
     },
     "output_type": "display_data"
    }
   ],
   "source": [
    "#3 Plot the Series in a meaningful way and make sure your chart has a title and axis labels.\n",
    "exam_scores.plot.hist(title = 'Distribution of Scores',\n",
    "                                        rot = 0,\n",
    "                                        xlabel = 'Score',\n",
    "                                        ylabel = 'Frequency',\n",
    "                                        color='darkseagreen')"
   ]
  },
  {
   "cell_type": "code",
   "execution_count": 61,
   "id": "c938b31a",
   "metadata": {},
   "outputs": [
    {
     "data": {
      "text/plain": [
       "4"
      ]
     },
     "execution_count": 61,
     "metadata": {},
     "output_type": "execute_result"
    }
   ],
   "source": [
    "#4 Write the code necessary to implement a curve for your exam_grades Series and save this as curved_grades. \n",
    "# Add the necessary points to the highest grade to make it 100, \n",
    "# and add the same number of points to every other score in the Series as well.\n",
    "100 - exam_scores.max()"
   ]
  },
  {
   "cell_type": "code",
   "execution_count": 62,
   "id": "7a96c184",
   "metadata": {},
   "outputs": [
    {
     "data": {
      "text/plain": [
       "0      64\n",
       "1      90\n",
       "2      79\n",
       "3      66\n",
       "4      97\n",
       "5      75\n",
       "6      64\n",
       "7      87\n",
       "8      99\n",
       "9      82\n",
       "10     69\n",
       "11     76\n",
       "12     73\n",
       "13     85\n",
       "14    100\n",
       "15     84\n",
       "16     89\n",
       "17     96\n",
       "18     86\n",
       "19     82\n",
       "dtype: int64"
      ]
     },
     "execution_count": 62,
     "metadata": {},
     "output_type": "execute_result"
    }
   ],
   "source": [
    "curved_grades = exam_scores + 4\n",
    "curved_grades"
   ]
  },
  {
   "cell_type": "code",
   "execution_count": 63,
   "id": "09bc6ea5",
   "metadata": {},
   "outputs": [
    {
     "data": {
      "text/plain": [
       "60"
      ]
     },
     "execution_count": 63,
     "metadata": {},
     "output_type": "execute_result"
    }
   ],
   "source": [
    "exam_scores.min()"
   ]
  },
  {
   "cell_type": "code",
   "execution_count": 64,
   "id": "c70eae44",
   "metadata": {},
   "outputs": [
    {
     "data": {
      "text/plain": [
       "64"
      ]
     },
     "execution_count": 64,
     "metadata": {},
     "output_type": "execute_result"
    }
   ],
   "source": [
    "curved_grades.min()"
   ]
  },
  {
   "cell_type": "code",
   "execution_count": 66,
   "id": "5d999021",
   "metadata": {},
   "outputs": [
    {
     "data": {
      "text/plain": [
       "0     F\n",
       "1     B\n",
       "2     C\n",
       "3     F\n",
       "4     A\n",
       "5     D\n",
       "6     F\n",
       "7     B\n",
       "8     A\n",
       "9     B\n",
       "10    F\n",
       "11    C\n",
       "12    D\n",
       "13    B\n",
       "14    A\n",
       "15    B\n",
       "16    B\n",
       "17    A\n",
       "18    B\n",
       "19    B\n",
       "dtype: category\n",
       "Categories (5, object): ['F' < 'D' < 'C' < 'B' < 'A']"
      ]
     },
     "execution_count": 66,
     "metadata": {},
     "output_type": "execute_result"
    }
   ],
   "source": [
    "#5 Use a method to convert each of the numeric values in the curved_grades Series into a categorical value of letter grades. \n",
    "# For example, 86 should be a 'B' and 95 should be an 'A'. Save this as a Series named letter_grades.\n",
    "\n",
    "bin_edges = [0, 70, 75, 80, 90, 101]\n",
    "bin_labels = ['F', 'D', 'C', 'B', 'A']\n",
    "letter_grades = pd.cut(curved_grades, bins=bin_edges, labels=bin_labels)\n",
    "letter_grades"
   ]
  },
  {
   "cell_type": "code",
   "execution_count": 84,
   "id": "5ca4544c",
   "metadata": {},
   "outputs": [
    {
     "data": {
      "text/plain": [
       "<AxesSubplot:title={'center':'Curved Grades'}, ylabel='Grades'>"
      ]
     },
     "execution_count": 84,
     "metadata": {},
     "output_type": "execute_result"
    },
    {
     "data": {
      "image/png": "[encoded data removed]",
      "text/plain": [
       "<Figure size 432x288 with 1 Axes>"
      ]
     },
     "metadata": {
      "needs_background": "light"
     },
     "output_type": "display_data"
    }
   ],
   "source": [
    "#6 Plot your new categorical letter_grades Series in a meaninful way and include a title and axis labels.\n",
    "letter_grades.value_counts().sort_index().plot.barh(title = 'Curved Grades',\n",
    "                                                   xlabel = 'Grades',\n",
    "                                                   ylabel = 'Number of Students',\n",
    "                                                   color = 'darkseagreen')"
   ]
  }
 ],
 "metadata": {
  "kernelspec": {
   "display_name": "Python 3.8.8 64-bit ('base': conda)",
   "language": "python",
   "name": "python388jvsc74a57bd0b64057e63add2b45b1ffc7eab9b09c8889b419c878e2fdf0d08f837f0fc857a7"
  },
  "language_info": {
   "codemirror_mode": {
    "name": "ipython",
    "version": 3
   },
   "file_extension": ".py",
   "mimetype": "text/x-python",
   "name": "python",
   "nbconvert_exporter": "python",
   "pygments_lexer": "ipython3",
   "version": "3.8.8"
  }
 },
 "nbformat": 4,
 "nbformat_minor": 5
}
